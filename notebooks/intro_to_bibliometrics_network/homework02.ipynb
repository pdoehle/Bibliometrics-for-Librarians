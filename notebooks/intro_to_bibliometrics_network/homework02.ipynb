{
  "cells": [
    {
      "metadata": {},
      "cell_type": "markdown",
      "source": "# Homework 02 - Plot a Graph with Bibliometrix"
    },
    {
      "metadata": {},
      "cell_type": "markdown",
      "source": "For the second part of the homework, you will plot a co-authorship network using the R package Bibliometrix. Click in each code cell and type `Shift` + `Enter` to run the code. The first one will take quite a bit of time since both packages are large. You may want to start it and come back after doing something else. You only need to install new packages once."
    },
    {
      "metadata": {
        "trusted": true
      },
      "cell_type": "code",
      "source": "# Install packages - Only need to run this once!\ninstall.packages('tidyverse', verbose = FALSE)\ninstall.packages('bibliometrix', verbose = FALSE)",
      "execution_count": null,
      "outputs": [
        {
          "output_type": "stream",
          "text": "Installing package into ‘/home/nbuser/R’\n(as ‘lib’ is unspecified)\nalso installing the dependencies ‘glue’, ‘lifecycle’, ‘rlang’, ‘tidyselect’, ‘vctrs’, ‘dplyr’, ‘haven’, ‘hms’, ‘modelr’, ‘rvest’, ‘tidyr’\n\n",
          "name": "stderr"
        }
      ]
    },
    {
      "metadata": {
        "trusted": true
      },
      "cell_type": "code",
      "source": "update.packages('rlang')",
      "execution_count": null,
      "outputs": []
    },
    {
      "metadata": {
        "trusted": false
      },
      "cell_type": "code",
      "source": "# Load packages\nlibrary('bibliometrix')\nlibrary('tidyverse')",
      "execution_count": null,
      "outputs": []
    },
    {
      "metadata": {},
      "cell_type": "markdown",
      "source": "Bibliometrix will load files from different databases and convert them to a `bibliometric dataframe`. We will use the dimensions file from earlier in the course."
    },
    {
      "metadata": {
        "trusted": false
      },
      "cell_type": "code",
      "source": "# Read in data from file\ndimensions <- convert2df(file = 'dimensions.csv', dbsource = 'dimensions', format = 'csv')",
      "execution_count": null,
      "outputs": []
    },
    {
      "metadata": {
        "trusted": false
      },
      "cell_type": "code",
      "source": "dimensions %>% head()",
      "execution_count": null,
      "outputs": []
    },
    {
      "metadata": {},
      "cell_type": "markdown",
      "source": "Right now `dimensions` is a dataframe. We need to convert it into a graph object. There are many different graphs we could build from these data. We will build a co-authorship graph."
    },
    {
      "metadata": {
        "trusted": false
      },
      "cell_type": "code",
      "source": "# Convert the data to a network object\ndimensions_network <- biblioNetwork(dimensions, analysis = 'co-occurrences', network = 'authors')",
      "execution_count": null,
      "outputs": []
    },
    {
      "metadata": {},
      "cell_type": "markdown",
      "source": "`networkPlot()` plots networks. It also calculates several node statistics automatically."
    },
    {
      "metadata": {
        "trusted": false
      },
      "cell_type": "code",
      "source": "net_plot <- networkPlot(dimensions_network, n = 'all')",
      "execution_count": null,
      "outputs": []
    },
    {
      "metadata": {},
      "cell_type": "markdown",
      "source": "This is too many nodes! We cannot see what is happening; fortunately, `networkPlot()` actually returns several objects to help us examine the data. One is called Cluster Results. We access Cluster Results by appending `$cluster_res` to the end of our graph (`net_plot`). `as_tibble()` converts the data into a [tibble](https://tibble.tidyverse.org/) and makes working with the data a bit more convenient."
    },
    {
      "metadata": {
        "trusted": false
      },
      "cell_type": "code",
      "source": "# Access results\nresults <- as_tibble(net_plot$cluster_res)\n# Look at the first few lines\nresults %>% head()",
      "execution_count": null,
      "outputs": []
    },
    {
      "metadata": {},
      "cell_type": "markdown",
      "source": "`networkPlot()` automatically calculates betweenness Centrality, Closeness Centrality and Page Rank (related to Eigenvector Centrality) for each node. It also groups nodes into clusters (*partitions* in math literature). Let's plot just one of these clusters. The following code counts how many lines from the data belong to each cluster and arranges clusters from biggest to smallest."
    },
    {
      "metadata": {
        "trusted": false
      },
      "cell_type": "code",
      "source": "# 1. Select cluster column\n# 2. Group clusters by identifier\n# 3. Count clusters\n# 4. Arrange in descending order\n# 5. Look at the first few lines\nresults %>% select(cluster) %>% group_by(cluster) %>% tally %>% arrange(desc(n)) %>% head()",
      "execution_count": null,
      "outputs": []
    },
    {
      "metadata": {},
      "cell_type": "markdown",
      "source": "It looks like group 101 has the most nodes (thirty-five). We will plot that cluster. Graphs are stored in the computer as an adjacency matrix. We will select only the rows and columns of the matix that belong to the 101 cluster."
    },
    {
      "metadata": {
        "trusted": false
      },
      "cell_type": "code",
      "source": "# Get the indices of all the nodes that are in the 101 group.\nmembers <- net_plot$cluster_obj$membership == 101\n# Create a sub-matrix by selecting with row, column notation ([rows, columns])\nsub_matrix <- net_plot$graph[members, members]",
      "execution_count": null,
      "outputs": []
    },
    {
      "metadata": {
        "trusted": false
      },
      "cell_type": "code",
      "source": "# Plot the graph\nsub_plot <- networkPlot(sub_matrix, n = 'all', label = FALSE)",
      "execution_count": null,
      "outputs": []
    },
    {
      "metadata": {},
      "cell_type": "markdown",
      "source": "We can look at the results using `$cluster_res`."
    },
    {
      "metadata": {
        "trusted": false
      },
      "cell_type": "code",
      "source": "# Look at the centrality measures\nsub_plot$cluster_res",
      "execution_count": null,
      "outputs": []
    },
    {
      "metadata": {},
      "cell_type": "markdown",
      "source": "## Next Steps"
    },
    {
      "metadata": {},
      "cell_type": "markdown",
      "source": "Bibliometrix is a rich package with a lot of options. It can compute all (and much more) of the metrics we discussed in the class slides. I recommend the following additional resources:\n\n- [Bibliometrix Webpage](https://bibliometrix.org/index.html)\n- [Biblioshiny](https://bibliometrix.org/Biblioshiny.html)\n  - A graphical user interface (GUI) for the Bibliometrix package.\n- [A Brief Introduction to Bibliometrix](https://cran.r-project.org/web/packages/bibliometrix/vignettes/bibliometrix-vignette.html)\n- [VOSviewer](https://www.vosviewer.com/)\n  - Software for plotting citation networks that does not require coding."
    },
    {
      "metadata": {
        "trusted": false
      },
      "cell_type": "code",
      "source": "",
      "execution_count": null,
      "outputs": []
    }
  ],
  "metadata": {
    "kernelspec": {
      "name": "r",
      "display_name": "R",
      "language": "R"
    },
    "language_info": {
      "mimetype": "text/x-r-source",
      "name": "R",
      "pygments_lexer": "r",
      "version": "3.5.3",
      "file_extension": ".r",
      "codemirror_mode": "r"
    }
  },
  "nbformat": 4,
  "nbformat_minor": 4
}