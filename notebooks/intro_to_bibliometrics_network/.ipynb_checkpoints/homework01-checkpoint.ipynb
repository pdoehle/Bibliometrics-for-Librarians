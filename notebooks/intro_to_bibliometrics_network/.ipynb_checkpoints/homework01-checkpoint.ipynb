{
 "cells": [
  {
   "cell_type": "markdown",
   "metadata": {},
   "source": [
    "# Homework 01 - Building Intuition Around Centrality Measures"
   ]
  },
  {
   "cell_type": "markdown",
   "metadata": {},
   "source": [
    "**Instructions:** I wrote this homework problem in Python, which is outside the scope of this course. **You do not need to know any Python to complete this exercise.** Start at the top and move down the page. At each code cell, click in the cell and type `Shift` + `Enter` to execute the code. When asked to enter a number, type the number in the text box and hit `Enter`. Make sure your number has digits only no commas or decimal points)."
   ]
  },
  {
   "cell_type": "code",
   "execution_count": 1,
   "metadata": {},
   "outputs": [
    {
     "name": "stderr",
     "output_type": "stream",
     "text": [
      "/Users/clarke/opt/anaconda3/lib/python3.7/site-packages/networkx/drawing/nx_pylab.py:579: MatplotlibDeprecationWarning: \n",
      "The iterable function was deprecated in Matplotlib 3.1 and will be removed in 3.3. Use np.iterable instead.\n",
      "  if not cb.iterable(width):\n"
     ]
    }
   ],
   "source": [
    "# Setup\n",
    "import networkx as nx\n",
    "import matplotlib as plt\n",
    "import pandas as pd\n",
    "import random\n",
    "\n",
    "# Functions\n",
    "# Random walk\n",
    "def random_walk(A, start, steps):\n",
    "    walk = [start]\n",
    "    for i in range(steps):\n",
    "        next_step = random.choice([i+1 for i, _ in enumerate(A.loc[walk[-1]]) if _ == 1])\n",
    "        walk.append(next_step)\n",
    "    return walk\n",
    "\n",
    "def run_experiment(steps, matrix):\n",
    "    # Random walk\n",
    "    nodes = random_walk(matrix, random.choice([i for i in range(1,10)]), steps)\n",
    "    nodes = pd.DataFrame(nodes, columns=['node'])\n",
    "    nodes = pd.DataFrame(nodes['node'].value_counts(), columns=['node']).sort_index()\n",
    "    normalized = nodes / nodes.sum()\n",
    "\n",
    "    # Report\n",
    "    report = nodes\n",
    "    report.columns = ['Node Counts']\n",
    "    report.plot.bar();\n",
    "\n",
    "# Adjacency matrix\n",
    "# Directed version\n",
    "A = pd.DataFrame([[0, 0, 0, 0, 0, 0, 0, 0, 1],\n",
    "                  [0, 0, 1, 0, 0, 1, 0, 0, 1],\n",
    "                 [0, 0, 0, 1, 0, 0, 0, 0, 0],\n",
    "                 [0, 1, 0, 0, 1, 0, 0, 0, 1],\n",
    "                 [0, 1, 1, 0, 0, 1, 0, 0, 0],\n",
    "                 [0, 0, 0, 0, 0, 0, 0, 0, 0],\n",
    "                 [0, 0, 0, 0, 0, 0, 0, 0, 0],\n",
    "                 [1, 0, 0, 0, 0, 0, 0, 0, 0],\n",
    "                 [0, 0, 0, 0, 1, 0, 1, 0, 0]])\n",
    "A.columns = [i for i in range(1,10)]\n",
    "A.index = [i for i in range(1,10)]\n",
    "# Undirected version\n",
    "undirected = A + A.T\n",
    "\n",
    "# Create visualization of undirected graph\n",
    "graph_A = nx.Graph()\n",
    "matrix = undirected\n",
    "for i in matrix.index:\n",
    "    for j in matrix.columns:\n",
    "        if matrix.loc[i,j] == 1:\n",
    "            graph_A.add_edge(i, j)\n",
    "\n",
    "# Plot graph\n",
    "nx.draw_networkx(graph_A)"
   ]
  },
  {
   "cell_type": "markdown",
   "metadata": {},
   "source": [
    "## Eigenvector Centrality"
   ]
  },
  {
   "cell_type": "markdown",
   "metadata": {},
   "source": [
    "**Question:** Look at the graph above. Which node do you expect to be most central? We will begin by answering this question using Eignevector Centrality. Recall that Eigenvector Centrality is tied to the concept of a random walk through the network. We will run a random-walk experiment then compute the Eignenvector Centrality to see how they match up. The computer will start on a random node and choose a random path through the graph. The program will keep track of how many times it passes through each node. Given enough steps, certain nodes will dominate the counts. Give it a try!"
   ]
  },
  {
   "cell_type": "code",
   "execution_count": 2,
   "metadata": {},
   "outputs": [
    {
     "name": "stdout",
     "output_type": "stream",
     "text": [
      "Pick a small number of steps (less than 20):1\n"
     ]
    },
    {
     "data": {
      "image/png": "[encoded data removed]",
      "text/plain": [
       "<Figure size 432x288 with 1 Axes>"
      ]
     },
     "metadata": {
      "needs_background": "light"
     },
     "output_type": "display_data"
    }
   ],
   "source": [
    "steps = input('Pick a small number of steps (less than 20):')\n",
    "run_experiment(int(steps), undirected)"
   ]
  },
  {
   "cell_type": "code",
   "execution_count": null,
   "metadata": {},
   "outputs": [],
   "source": [
    "steps = input('Pick a bigger number of steps (more than 100, less than 1,000):')\n",
    "run_experiment(int(steps), undirected)"
   ]
  },
  {
   "cell_type": "code",
   "execution_count": null,
   "metadata": {},
   "outputs": [],
   "source": [
    "steps = input('Pick a bigger number of steps (more than 5,000, less than 10,000):')\n",
    "run_experiment(int(steps), undirected)"
   ]
  },
  {
   "cell_type": "code",
   "execution_count": null,
   "metadata": {},
   "outputs": [],
   "source": [
    "steps = input('Pick a really big number (more than 10,000; less than 1,000,000):')\n",
    "run_experiment(int(steps), undirected)"
   ]
  },
  {
   "cell_type": "markdown",
   "metadata": {},
   "source": [
    "After enough steps, the behavior is always the same (notice how similar the last two plots are). The node with the highest count corresponds to the node with the highest Eigenvector Centrality. Do these rankings match your expectations? Let's compute the Eigenvector scores next."
   ]
  },
  {
   "cell_type": "code",
   "execution_count": null,
   "metadata": {},
   "outputs": [],
   "source": [
    "# Find eigenvalue scores\n",
    "eigen_centrality = pd.DataFrame(data=nx.eigenvector_centrality_numpy(graph_A), index=['eigen']).T.sort_index()\n",
    "\n",
    "# Normalize\n",
    "eigen_centrality = eigen_centrality / eigen_centrality.sum()\n",
    "\n",
    "# Color plot based on Eigenvector Centrality\n",
    "nx.draw_networkx(graph_A, node_color=eigen_centrality.loc[list(graph_A.nodes),]['eigen'], cmap='Wistia')\n",
    "\n",
    "# Bar plot\n",
    "eigen_centrality.plot.bar();"
   ]
  },
  {
   "cell_type": "markdown",
   "metadata": {},
   "source": [
    "The ratios change, but the rankings remain the same."
   ]
  },
  {
   "cell_type": "markdown",
   "metadata": {},
   "source": [
    "## The Other Centrality Measures"
   ]
  },
  {
   "cell_type": "markdown",
   "metadata": {},
   "source": [
    "We will now look at the other centrality measures. For each measure, run the code to compute the given measure. Before running the code, try to guess how the nodes will be ranked by that measure. The original graph is plotted at the start of each section for your reference. Do the results match your expectations? Feel free to use the course slides as a reference."
   ]
  },
  {
   "cell_type": "markdown",
   "metadata": {},
   "source": [
    "## Degree Centrality"
   ]
  },
  {
   "cell_type": "code",
   "execution_count": 2,
   "metadata": {},
   "outputs": [
    {
     "data": {
      "image/png": "[encoded data removed]",
      "text/plain": [
       "<Figure size 432x288 with 1 Axes>"
      ]
     },
     "metadata": {},
     "output_type": "display_data"
    }
   ],
   "source": [
    "# Plot graph\n",
    "nx.draw_networkx(graph_A)"
   ]
  },
  {
   "cell_type": "code",
   "execution_count": null,
   "metadata": {},
   "outputs": [],
   "source": [
    "# Find degree\n",
    "degree_centrality = pd.DataFrame(data=nx.degree_centrality(graph_A), index=['degree']).T.sort_index()\n",
    "\n",
    "# Color plot based on degree centrality\n",
    "nx.draw_networkx(graph_A, node_color=degree_centrality.loc[list(graph_A.nodes),]['degree'], cmap='Wistia')\n",
    "\n",
    "# Bar plot\n",
    "degree_centrality.plot.bar();"
   ]
  },
  {
   "cell_type": "markdown",
   "metadata": {},
   "source": [
    "## Closeness Centrality"
   ]
  },
  {
   "cell_type": "code",
   "execution_count": 3,
   "metadata": {},
   "outputs": [
    {
     "data": {
      "image/png": "[encoded data removed]",
      "text/plain": [
       "<Figure size 432x288 with 1 Axes>"
      ]
     },
     "metadata": {},
     "output_type": "display_data"
    }
   ],
   "source": [
    "# Plot graph\n",
    "nx.draw_networkx(graph_A)"
   ]
  },
  {
   "cell_type": "code",
   "execution_count": null,
   "metadata": {},
   "outputs": [],
   "source": [
    "# Find closeness centrality\n",
    "closeness_centrality = pd.DataFrame(data=nx.closeness_centrality(graph_A), index=['closeness']).T.sort_index()\n",
    "\n",
    "# Color plot based on closeness centrality\n",
    "nx.draw_networkx(graph_A, node_color=closeness_centrality.loc[list(graph_A.nodes),]['closeness'], cmap='Wistia')\n",
    "\n",
    "# Bar plot\n",
    "closeness_centrality.plot.bar();"
   ]
  },
  {
   "cell_type": "markdown",
   "metadata": {},
   "source": [
    "## Betweenness Centrality"
   ]
  },
  {
   "cell_type": "code",
   "execution_count": 4,
   "metadata": {},
   "outputs": [
    {
     "data": {
      "image/png": "[encoded data removed]",
      "text/plain": [
       "<Figure size 432x288 with 1 Axes>"
      ]
     },
     "metadata": {},
     "output_type": "display_data"
    }
   ],
   "source": [
    "# Plot graph\n",
    "nx.draw_networkx(graph_A)"
   ]
  },
  {
   "cell_type": "code",
   "execution_count": null,
   "metadata": {},
   "outputs": [],
   "source": [
    "# Find betweenness centrality\n",
    "betweenness_centrality = pd.DataFrame(data=nx.betweenness_centrality(graph_A, normalized=True), index=['betweenness']).T.sort_index()\n",
    "\n",
    "# Color plot based on betweenness centrality\n",
    "nx.draw_networkx(graph_A, node_color=betweenness_centrality.loc[list(graph_A.nodes),]['betweenness'], cmap='Wistia')\n",
    "\n",
    "# Bar plot\n",
    "betweenness_centrality.plot.bar();"
   ]
  },
  {
   "cell_type": "code",
   "execution_count": null,
   "metadata": {},
   "outputs": [],
   "source": []
  }
 ],
 "metadata": {
  "kernelspec": {
   "display_name": "Python 3",
   "language": "python",
   "name": "python3"
  },
  "language_info": {
   "codemirror_mode": {
    "name": "ipython",
    "version": 3
   },
   "file_extension": ".py",
   "mimetype": "text/x-python",
   "name": "python",
   "nbconvert_exporter": "python",
   "pygments_lexer": "ipython3",
   "version": "3.7.4"
  }
 },
 "nbformat": 4,
 "nbformat_minor": 4
}
